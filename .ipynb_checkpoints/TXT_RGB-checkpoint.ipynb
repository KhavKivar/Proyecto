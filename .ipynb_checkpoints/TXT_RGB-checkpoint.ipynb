{
 "cells": [
  {
   "cell_type": "code",
   "execution_count": 1,
   "id": "9d25bb72",
   "metadata": {},
   "outputs": [],
   "source": [
    "import matplotlib.pyplot as mpimg\n",
    "import numpy as np"
   ]
  },
  {
   "cell_type": "code",
   "execution_count": 6,
   "id": "532d6fb0",
   "metadata": {},
   "outputs": [],
   "source": [
    "def RGBtoTXT(name):\n",
    "    img = mpimg.imread(name+'.jpg')\n",
    "    M,N,_ = img.shape\n",
    "    RGB = np.array([img[:,:,i].reshape(M*N) for i in range(3)])\n",
    "    np.savetxt(name+'.txt', RGB, fmt='%.8f', delimiter=' ', header='%d %d'%(M,N), comments='')"
   ]
  },
  {
   "cell_type": "code",
   "execution_count": 7,
   "id": "1b169323",
   "metadata": {},
   "outputs": [],
   "source": [
    "def TXTtoRGB(name):\n",
    "    RGB = np.loadtxt(name+'.txt', delimiter=' ', skiprows = 1)\n",
    "    with open(name+'.txt') as imgfile:\n",
    "        M,N = map(int,imgfile.readline().strip().split())\n",
    "    img = np.ones((M,N,4))\n",
    "    for i in range(3):\n",
    "        img[:,:,i] = RGB[i].reshape((M,N)) \n",
    "    mpimg.imsave(name+'_fromfile.png', img)"
   ]
  },
  {
   "cell_type": "code",
   "execution_count": 8,
   "id": "3ca44e53",
   "metadata": {},
   "outputs": [],
   "source": [
    "RGBtoTXT(\"dog\")"
   ]
  },
  {
   "cell_type": "code",
   "execution_count": 9,
   "id": "5a662416",
   "metadata": {},
   "outputs": [],
   "source": [
    "TXTtoRGB('img_GPU_SoA')"
   ]
  },
  {
   "cell_type": "code",
   "execution_count": null,
   "id": "fa9b59a9",
   "metadata": {},
   "outputs": [],
   "source": []
  }
 ],
 "metadata": {
  "kernelspec": {
   "display_name": "Python 3",
   "language": "python",
   "name": "python3"
  },
  "language_info": {
   "codemirror_mode": {
    "name": "ipython",
    "version": 3
   },
   "file_extension": ".py",
   "mimetype": "text/x-python",
   "name": "python",
   "nbconvert_exporter": "python",
   "pygments_lexer": "ipython3",
   "version": "3.8.8"
  }
 },
 "nbformat": 4,
 "nbformat_minor": 5
}
